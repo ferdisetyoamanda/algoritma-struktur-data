{
 "cells": [
  {
   "cell_type": "code",
   "execution_count": 5,
   "metadata": {},
   "outputs": [
    {
     "name": "stdout",
     "output_type": "stream",
     "text": [
      "True\n"
     ]
    }
   ],
   "source": [
    "#FERDI SETYO AMANDA\n",
    "perbandingan = 14 > 12  #Tipe data Bolean True\n",
    "print (perbandingan)"
   ]
  },
  {
   "cell_type": "code",
   "execution_count": 2,
   "metadata": {},
   "outputs": [
    {
     "name": "stdout",
     "output_type": "stream",
     "text": [
      "40\n",
      "3.14\n",
      "50\n",
      "variable milik ferdi adalah 50\n"
     ]
    }
   ],
   "source": [
    "# FERDI SETYO AMANDA   #\n",
    "var = 40\n",
    "phi = 3.14\n",
    "var2 = 50\n",
    "variabel_saya = \"variable milik ferdi\"\n",
    "\n",
    "print (var)\n",
    "print (phi)\n",
    "print (var2)\n",
    "print (variabel_saya,\"adalah\",var2)"
   ]
  },
  {
   "cell_type": "code",
   "execution_count": 2,
   "metadata": {},
   "outputs": [
    {
     "name": "stdout",
     "output_type": "stream",
     "text": [
      "314.0\n"
     ]
    }
   ],
   "source": [
    "#FERDI SETYO AMANDA\n",
    "r = 50            #r , tipe data integer\n",
    "phi = 3.14\n",
    "keliling = 2*phi*r\n",
    "print (keliling)"
   ]
  },
  {
   "cell_type": "code",
   "execution_count": 1,
   "metadata": {},
   "outputs": [
    {
     "name": "stdout",
     "output_type": "stream",
     "text": [
      "False\n"
     ]
    }
   ],
   "source": [
    "perbandingan = 14 < 8\n",
    "print (perbandingan)    #Tipe Data Bolean False"
   ]
  },
  {
   "cell_type": "code",
   "execution_count": 3,
   "metadata": {},
   "outputs": [
    {
     "name": "stdout",
     "output_type": "stream",
     "text": [
      "64.0\n",
      "0b1000000\n",
      "0x40\n"
     ]
    }
   ],
   "source": [
    "#FERDI SETYO AMANDA\n",
    "siswa = 64              # siswa= variabel\n",
    "print(float(siswa))      #tipe data float\n",
    "print(bin(siswa))        #tipe data  biner\n",
    "print(hex(siswa))       #tipe data hexadecimal"
   ]
  },
  {
   "cell_type": "code",
   "execution_count": 8,
   "metadata": {
    "scrolled": true
   },
   "outputs": [
    {
     "name": "stdout",
     "output_type": "stream",
     "text": [
      "Biodata Mahasiswa\n",
      "nama: Ferdi Setyo Amanda\n",
      "nim:20090159\n",
      "Dia Mahasiswa Semester 1 yang berprestasi, karena memiliki IPK sebesar  3.99\n"
     ]
    },
    {
     "ename": "NameError",
     "evalue": "name 'ipk' is not defined",
     "output_type": "error",
     "traceback": [
      "\u001b[1;31m---------------------------------------------------------------------------\u001b[0m",
      "\u001b[1;31mNameError\u001b[0m                                 Traceback (most recent call last)",
      "\u001b[1;32m<ipython-input-8-a6d55d5c1dc3>\u001b[0m in \u001b[0;36m<module>\u001b[1;34m\u001b[0m\n\u001b[0;32m     12\u001b[0m \u001b[1;33m\u001b[0m\u001b[0m\n\u001b[0;32m     13\u001b[0m \u001b[1;32mdel\u001b[0m\u001b[1;33m(\u001b[0m\u001b[0mipk\u001b[0m\u001b[1;33m)\u001b[0m\u001b[1;33m\u001b[0m\u001b[1;33m\u001b[0m\u001b[0m\n\u001b[1;32m---> 14\u001b[1;33m \u001b[0mprint\u001b[0m\u001b[1;33m(\u001b[0m\u001b[0mipk\u001b[0m\u001b[1;33m)\u001b[0m\u001b[1;33m\u001b[0m\u001b[1;33m\u001b[0m\u001b[0m\n\u001b[0m\u001b[0;32m     15\u001b[0m \u001b[1;33m\u001b[0m\u001b[0m\n",
      "\u001b[1;31mNameError\u001b[0m: name 'ipk' is not defined"
     ]
    }
   ],
   "source": [
    "#FERDI SETYO AMANDA\n",
    "judul= \"Biodata Mahasiswa\"\n",
    "nama= \"nama: Ferdi Setyo Amanda\"\n",
    "nim= \"nim:20090159\"\n",
    "semester= 1\n",
    "ipk= 3.99\n",
    "print (judul)\n",
    "print (nama)\n",
    "print (nim)\n",
    "\n",
    "print (\"\"\"Dia Mahasiswa Semester\"\"\", semester, \"yang berprestasi, karena memiliki IPK sebesar \", ipk)\n",
    "\n",
    "del(ipk)\n",
    "print(ipk)\n",
    "\n"
   ]
  },
  {
   "cell_type": "code",
   "execution_count": null,
   "metadata": {},
   "outputs": [],
   "source": []
  }
 ],
 "metadata": {
  "kernelspec": {
   "display_name": "Python 3",
   "language": "python",
   "name": "python3"
  },
  "language_info": {
   "codemirror_mode": {
    "name": "ipython",
    "version": 3
   },
   "file_extension": ".py",
   "mimetype": "text/x-python",
   "name": "python",
   "nbconvert_exporter": "python",
   "pygments_lexer": "ipython3",
   "version": "3.8.3"
  }
 },
 "nbformat": 4,
 "nbformat_minor": 4
}
