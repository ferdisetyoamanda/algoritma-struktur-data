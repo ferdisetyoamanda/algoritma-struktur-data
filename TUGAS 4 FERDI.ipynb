{
 "cells": [
  {
   "cell_type": "code",
   "execution_count": 2,
   "metadata": {},
   "outputs": [
    {
     "name": "stdout",
     "output_type": "stream",
     "text": [
      "Hasil 20 + 10 = 30\n",
      "Hasil 20 - 10 = 10\n",
      "Hasil 20 x 10 = 200\n",
      "Hasil 20 : 10 = 2.0\n",
      "Hasil 20 sisa bagi 10 = 0\n",
      "Hasil 20 pangkat 10 = 10240000000000\n"
     ]
    }
   ],
   "source": [
    "# FERDI SETYO AMANDA\n",
    "a = 20\n",
    "b = 10\n",
    "#penjumlahan\n",
    "c = a+b\n",
    "print (\"Hasil\",a,\"+\",b,\"=\",c)\n",
    "#pengurangan \n",
    "d = a-b\n",
    "print (\"Hasil\",a,\"-\",b,\"=\",d)\n",
    "#perkalian\n",
    "e = a*b\n",
    "print (\"Hasil\",a,\"x\",b,\"=\",e)\n",
    "#pembagian \n",
    "f = a/b\n",
    "print (\"Hasil\",a,\":\",b,\"=\",f)\n",
    "#sisa bagi\n",
    "g = a%b\n",
    "print (\"Hasil\",a,\"sisa bagi\",b,\"=\",g)\n",
    "#pemangkatan\n",
    "h = a**b\n",
    "print (\"Hasil\",a,\"pangkat\",b,\"=\",h)"
   ]
  },
  {
   "cell_type": "code",
   "execution_count": 3,
   "metadata": {},
   "outputs": [
    {
     "name": "stdout",
     "output_type": "stream",
     "text": [
      "30\n",
      "35\n",
      "30\n",
      "150\n",
      "30.0\n",
      "0.0\n",
      "0.0\n"
     ]
    }
   ],
   "source": [
    "# FERDI SETYO AMANDA\n",
    "# penugasan\n",
    "a =30\n",
    "print (a)\n",
    "# penjumlahan\n",
    "a+=5\n",
    "print (a)\n",
    "#pengurangan\n",
    "a-=5\n",
    "print (a)\n",
    "#perkalian\n",
    "a*=5\n",
    "print (a)\n",
    "#pembagian \n",
    "a/=5\n",
    "print (a)\n",
    "#sisabagi\n",
    "a%=5\n",
    "print (a)\n",
    "#pemangkatan\n",
    "a**=5\n",
    "print(a)"
   ]
  },
  {
   "cell_type": "code",
   "execution_count": 4,
   "metadata": {},
   "outputs": [
    {
     "name": "stdout",
     "output_type": "stream",
     "text": [
      "apakah a lebih besar dari b: True\n",
      "apakah a lebih kecil dari b: False\n",
      "apakah a sama dengan b False\n",
      "apakah tidak sama dengan b True\n",
      "apakah a lebih besar sama dengan b True\n",
      "apakah a lebih kecil sama dengan b\n"
     ]
    }
   ],
   "source": [
    "# FERDI SETYO AMANDA\n",
    "# PEMBANDING\n",
    "a = 25\n",
    "b = 20\n",
    "# apakah a lebih besar dari b\n",
    "c = a>b\n",
    "print (\"apakah a lebih besar dari b:\",c)\n",
    "# apakah a lebih kecil dari b\n",
    "d = a<b\n",
    "print (\"apakah a lebih kecil dari b:\",d)\n",
    "# apakah a sama dengan b\n",
    "e = a==b\n",
    "print (\"apakah a sama dengan b\",e)\n",
    "# apakah tidak sama dengan b\n",
    "f = a!=b\n",
    "print (\"apakah tidak sama dengan b\",f)\n",
    "# apakah a lebih besar sama dengan b\n",
    "g = a>=b\n",
    "print (\"apakah a lebih besar sama dengan b\",g)\n",
    "# apakah a lebih kecil sama dengan b\n",
    "h = a<=b\n",
    "print (\"apakah a lebih kecil sama dengan b\")\n",
    "\n"
   ]
  },
  {
   "cell_type": "code",
   "execution_count": 1,
   "metadata": {},
   "outputs": [
    {
     "name": "stdout",
     "output_type": "stream",
     "text": [
      "False\n",
      "True\n"
     ]
    },
    {
     "data": {
      "text/plain": [
       "False"
      ]
     },
     "execution_count": 1,
     "metadata": {},
     "output_type": "execute_result"
    }
   ],
   "source": [
    "#FERDI SETYO AMANDA\n",
    "a = True \n",
    "b = False\n",
    "#logika AND\n",
    "c = a and b\n",
    "print (c)\n",
    "#logika OR\n",
    "d = a or b\n",
    "print (d)\n",
    "#negasi/kebalikan\n",
    "not a"
   ]
  },
  {
   "cell_type": "code",
   "execution_count": 2,
   "metadata": {},
   "outputs": [
    {
     "name": "stdout",
     "output_type": "stream",
     "text": [
      "nama bayi? Amanda Patrisiana\n",
      "berat bayi 8\n",
      "nama bayi adalah: Amanda Patrisiana berat dalam kg: 8 Kg,berat dalam ons: 80 ons,berat bayi dalam 1 bulan kedepan adalah 110 ons\n"
     ]
    }
   ],
   "source": [
    "#FERDI SETYO AMANDA\n",
    "#INPUT\n",
    "nama = input(\"nama bayi? \")\n",
    "berat = int(input(\"berat bayi\"))\n",
    "ons = berat * 10\n",
    "ons1 = ons + 30\n",
    "print(\"nama bayi adalah:\",nama,\"berat dalam kg:\",berat,\"Kg,berat dalam ons:\",ons,\"ons,berat bayi dalam 1 bulan kedepan adalah\",ons1,\"ons\")"
   ]
  },
  {
   "cell_type": "code",
   "execution_count": null,
   "metadata": {},
   "outputs": [],
   "source": []
  }
 ],
 "metadata": {
  "kernelspec": {
   "display_name": "Python 3",
   "language": "python",
   "name": "python3"
  }
 },
 "nbformat": 4,
 "nbformat_minor": 4
}
