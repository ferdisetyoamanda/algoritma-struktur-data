{
 "cells": [
  {
   "cell_type": "code",
   "execution_count": 1,
   "metadata": {},
   "outputs": [
    {
     "name": "stdout",
     "output_type": "stream",
     "text": [
      "masukan nilai77\n",
      "Selamat anda LULUS\n"
     ]
    }
   ],
   "source": [
    "#FERDI SETYO AMANDA\n",
    "nilai = int(input(\"masukan nilai\"))\n",
    "\n",
    "if nilai <=76:\n",
    "    print(\"Selamat anda mengikuti remidi dan tetap semangat\")\n",
    "else:\n",
    "    print(\"Selamat anda LULUS\")"
   ]
  },
  {
   "cell_type": "code",
   "execution_count": 3,
   "metadata": {},
   "outputs": [
    {
     "name": "stdout",
     "output_type": "stream",
     "text": [
      "masukan nilai75\n",
      "Selamat anda mengikuti remidi dan tetap semangat\n"
     ]
    }
   ],
   "source": [
    "#FERDI SETYO AMANDA #percabangan if\n",
    "nilai = int(input(\"masukan nilai\"))\n",
    "\n",
    "if nilai <=76:\n",
    "    print(\"Selamat anda mengikuti remidi dan tetap semangat\")\n",
    "else:\n",
    "    print(\"Selamat anda LULUS\")"
   ]
  },
  {
   "cell_type": "code",
   "execution_count": 5,
   "metadata": {},
   "outputs": [
    {
     "name": "stdout",
     "output_type": "stream",
     "text": [
      "masukan jari-jari100\n",
      "luas lingkaran adalah 31400.0 jadi\n",
      "lingkaran ini lebih besar\n"
     ]
    }
   ],
   "source": [
    "#ferdi setyo amanda #notasi algoritma\n",
    "rad = int(input(\"masukan jari-jari\"))\n",
    "\n",
    "luas = 3.14*rad*rad\n",
    "print(\"luas lingkaran adalah\", luas, \"jadi\")\n",
    "if luas >= 314:\n",
    "    print(\"lingkaran ini lebih besar\")\n",
    "else:\n",
    "    print(\" Lingkaran ini kecil\")\n"
   ]
  },
  {
   "cell_type": "code",
   "execution_count": 6,
   "metadata": {},
   "outputs": [
    {
     "name": "stdout",
     "output_type": "stream",
     "text": [
      "masukan jari-jari2\n",
      "luas lingkaran adalah 12.56 jadi\n",
      " Lingkaran ini kecil\n"
     ]
    }
   ],
   "source": [
    "#ferdi setyo amanda #notasi algoritma\n",
    "rad = int(input(\"masukan jari-jari\"))\n",
    "\n",
    "luas = 3.14*rad*rad\n",
    "print(\"luas lingkaran adalah\", luas, \"jadi\")\n",
    "if luas >= 314:\n",
    "    print(\"lingkaran ini lebih besar\")\n",
    "else:\n",
    "    print(\" Lingkaran ini kecil\")\n"
   ]
  },
  {
   "cell_type": "code",
   "execution_count": 2,
   "metadata": {},
   "outputs": [
    {
     "name": "stdout",
     "output_type": "stream",
     "text": [
      " masukan nomor program : 1\n",
      "panjang : 10\n",
      "lebar : 10\n",
      "tinggi : 10\n",
      "jadi volume balok : 1000\n"
     ]
    }
   ],
   "source": [
    "# ferdi setyo amanada\n",
    "#input program\n",
    "program= int(input(\" masukan nomor program : \"))\n",
    "def volume_balok() :\n",
    "    p= int(input(\"panjang : \"))\n",
    "    l= int(input(\"lebar : \"))\n",
    "    t= int(input(\"tinggi : \"))\n",
    "    luas = (p*l*t)\n",
    "    return luas \n",
    "\n",
    "def volume_kubus() :\n",
    "    s= int(input(\"sisi : \"))\n",
    "    v_kubus= (s*s*s)\n",
    "    return v_kubus\n",
    "\n",
    "\n",
    "if program == 1:\n",
    "    print(\"jadi volume balok :\", volume_balok() )\n",
    "    \n",
    "elif program ==2:\n",
    "    print(\"jadi volume kubus :\",volume_kubus() )\n",
    "else:\n",
    "    print(\"not found\")\n"
   ]
  },
  {
   "cell_type": "code",
   "execution_count": 3,
   "metadata": {},
   "outputs": [
    {
     "name": "stdout",
     "output_type": "stream",
     "text": [
      " masukan nomor program : 2\n",
      "sisi : 100\n",
      "jadi volume kubus : 1000000\n"
     ]
    }
   ],
   "source": [
    "# ferdi setyo amanada\n",
    "#input program\n",
    "program= int(input(\" masukan nomor program : \"))\n",
    "def volume_balok() :\n",
    "    p= int(input(\"panjang : \"))\n",
    "    l= int(input(\"lebar : \"))\n",
    "    t= int(input(\"tinggi : \"))\n",
    "    luas = (p*l*t)\n",
    "    return luas \n",
    "\n",
    "def volume_kubus() :\n",
    "    s= int(input(\"sisi : \"))\n",
    "    v_kubus= (s*s*s)\n",
    "    return v_kubus\n",
    "\n",
    "\n",
    "if program == 1:\n",
    "    print(\"jadi volume balok :\", volume_balok() )\n",
    "    \n",
    "elif program ==2:\n",
    "    print(\"jadi volume kubus :\",volume_kubus() )\n",
    "else:\n",
    "    print(\"not found\")\n"
   ]
  },
  {
   "cell_type": "code",
   "execution_count": 10,
   "metadata": {},
   "outputs": [
    {
     "name": "stdout",
     "output_type": "stream",
     "text": [
      " masukan nomor program : 3\n",
      "not found\n"
     ]
    }
   ],
   "source": [
    "# ferdi setyo amanada\n",
    "#input program\n",
    "program= int(input(\" masukan nomor program : \"))\n",
    "def volume_balok() :\n",
    "    p= int(input(\"panjang : \"))\n",
    "    l= int(input(\"lebar : \"))\n",
    "    t= int(input(\"tinggi : \"))\n",
    "    luas = (p*l*t)\n",
    "    return luas\n",
    "\n",
    "def volume_kubus() :\n",
    "    s= int(input(\"sisi : \"))\n",
    "    v_kubus= (s*s*s)\n",
    "    return v_kubus\n",
    "\n",
    "\n",
    "if program == 1:\n",
    "    print(\"jadi volume balok :\", volume_balok() )\n",
    "    \n",
    "elif program ==2:\n",
    "    print(\"jadi volume kubus :\",volume_kubus() )\n",
    "else:\n",
    "    print(\"not found\")\n"
   ]
  }
 ],
 "metadata": {
  "kernelspec": {
   "display_name": "Python 3",
   "language": "python",
   "name": "python3"
  },
  "language_info": {
   "codemirror_mode": {
    "name": "ipython",
    "version": 3
   },
   "file_extension": ".py",
   "mimetype": "text/x-python",
   "name": "python",
   "nbconvert_exporter": "python",
   "pygments_lexer": "ipython3",
   "version": "3.8.3"
  }
 },
 "nbformat": 4,
 "nbformat_minor": 4
}
