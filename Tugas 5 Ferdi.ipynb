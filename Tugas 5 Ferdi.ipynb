{
 "cells": [
  {
   "cell_type": "code",
   "execution_count": 1,
   "metadata": {},
   "outputs": [
    {
     "name": "stdout",
     "output_type": "stream",
     "text": [
      "because i proud to make something new\n",
      "i like progamming\n"
     ]
    }
   ],
   "source": [
    "#FERDISETYOAMANDA\n",
    "def alasan():\n",
    "    print (\"because i proud to make something new\")\n",
    "def hobby():\n",
    "    print (\"i like progamming\")\n",
    "    \n",
    "alasan()\n",
    "hobby()"
   ]
  },
  {
   "cell_type": "code",
   "execution_count": 2,
   "metadata": {},
   "outputs": [
    {
     "name": "stdout",
     "output_type": "stream",
     "text": [
      "halo, nama sayaFerdi \n",
      "luas persegi panjang adalah 50\n",
      "luas persegi panjang adalah 5000\n"
     ]
    }
   ],
   "source": [
    "#FERDISETYOAMANDA\n",
    "\n",
    "def nama():\n",
    "    nama=input(\"halo, nama saya\")\n",
    "    \n",
    "def luas_panjang(p, l):\n",
    "    luas=p*l\n",
    "    print(\"luas persegi panjang adalah\", luas)\n",
    "    \n",
    "nama()\n",
    "luas_panjang(5, 10)\n",
    "luas_panjang(50, 100)"
   ]
  },
  {
   "cell_type": "code",
   "execution_count": 3,
   "metadata": {},
   "outputs": [
    {
     "name": "stdout",
     "output_type": "stream",
     "text": [
      "panjang20\n",
      "lebar10\n",
      "tinggi35\n",
      "luas persegi panjang adalah 200\n",
      "volume balok adalah 7000\n"
     ]
    }
   ],
   "source": [
    "#FERDISETYOAMANDA\n",
    "p= int(input(\"panjang\"))\n",
    "l= int(input(\"lebar\"))\n",
    "t= int(input(\"tinggi\"))\n",
    "\n",
    "def luas_ppanjang ():\n",
    "    luas = p*l\n",
    "    return luas\n",
    "def volume_balok ():\n",
    "    volume = luas_ppanjang ()*t\n",
    "    return volume\n",
    "print(\"luas persegi panjang adalah\", luas_ppanjang())\n",
    "print(\"volume balok adalah\", volume_balok())"
   ]
  },
  {
   "cell_type": "code",
   "execution_count": 4,
   "metadata": {},
   "outputs": [
    {
     "name": "stdout",
     "output_type": "stream",
     "text": [
      "angka1 30\n",
      "angka2 30\n",
      "Apakah angka1 sama dengan angka2 : True\n",
      "Apakah angka1 lebih besar angka2 : False\n"
     ]
    }
   ],
   "source": [
    "#FERDISETYOAMANDA\n",
    "\n",
    "angka1 = int(input(\"angka1 \"))\n",
    "angka2 = int(input(\"angka2 \"))\n",
    "\n",
    "def sama_dengan(angka1, angka2):\n",
    "    sama_dengan = angka1==angka2\n",
    "    print(\"Apakah angka1 sama dengan angka2 :\", sama_dengan)\n",
    "    \n",
    "def lebih_besar(angka1, angka2):\n",
    "    lebih_besar = angka1>angka2\n",
    "    print (\"Apakah angka1 lebih besar angka2 :\", lebih_ber)"
   ]
  },
  {
   "cell_type": "code",
   "execution_count": null,
   "metadata": {},
   "outputs": [],
   "source": []
  }
 ],
 "metadata": {
  "kernelspec": {
   "display_name": "Python 3",
   "language": "python",
   "name": "python3"
  },
  "language_info": {
   "codemirror_mode": {
    "name": "ipython",
    "version": 3
   },
   "file_extension": ".py",
   "mimetype": "text/x-python",
   "name": "python",
   "nbconvert_exporter": "python",
   "pygments_lexer": "ipython3",
   "version": "3.8.3"
  }
 },
 "nbformat": 4,
 "nbformat_minor": 4
}
